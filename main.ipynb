{
 "cells": [
  {
   "cell_type": "code",
   "execution_count": null,
   "metadata": {},
   "outputs": [],
   "source": [
    "import datasets\n",
    "import models\n",
    "import tensorflow as tf\n",
    "import numpy as np\n",
    "import \n",
    "\n",
    "import io\n",
    "from IPython import display\n",
    "\n",
    "import matplotlib.pyplot as plt\n",
    "from models import VGG,Res,Alex\n",
    "\n",
    "\n",
    "num_classes = 3\n",
    "\n",
    "def show_image(image):\n",
    "    plt.imshow(image)\n",
    "    plt.show()\n",
    "\n",
    "# Define the features of the dataset\n",
    "feature_description = {\n",
    "    'image': tf.io.FixedLenFeature([], tf.string),\n",
    "    'height': tf.io.FixedLenFeature((), tf.int64),\n",
    "    'width': tf.io.FixedLenFeature((), tf.int64),\n",
    "    'channels': tf.io.FixedLenFeature((), tf.int64),\n",
    "    'label': tf.io.FixedLenFeature([], tf.int64)\n",
    "}\n",
    "\n",
    "# Parse each record using the feature description\n",
    "def parse_example(example_proto):\n",
    "    example = tf.io.parse_single_example(example_proto, feature_description)\n",
    "    raw = tf.io.decode_raw(example[\"image\"], out_type=tf.uint8)\n",
    "    [h,w,c] = [example['height'],example['width'],example['channels']]\n",
    "    raw = tf.reshape(raw, [h, w, c])\n",
    "    image = tf.cast(raw/255,tf.float32)\n",
    "    label = example['label']\n",
    "    return image, label\n",
    "\n",
    "tfrecord_filename = './datasets/fruits.tfrecord/'\n",
    "raw_image_dataset = tf.data.TFRecordDataset(tfrecord_filename)\n",
    "# Apply the parse function to each record in the dataset\n",
    "parsed_dataset = raw_image_dataset.map(parse_example)\n",
    "\n",
    "\n",
    "model = VGG(weights='imagenet', include_top=True)\n",
    "\n",
    "for image, label in parsed_dataset:\n",
    "    #print(np.array(image))\n",
    "    print(image.shape)\n",
    "    img = np.expand_dims(image,axis=0)\n",
    "    img = tf.image.resize(img,[224,224])\n",
    "    predictions = model.predict(img)\n",
    "    print(predictions)\n"
   ]
  }
 ],
 "metadata": {
  "kernelspec": {
   "display_name": "hikari",
   "language": "python",
   "name": "python3"
  },
  "language_info": {
   "codemirror_mode": {
    "name": "ipython",
    "version": 3
   },
   "file_extension": ".py",
   "mimetype": "text/x-python",
   "name": "python",
   "nbconvert_exporter": "python",
   "pygments_lexer": "ipython3",
   "version": "3.10.8"
  },
  "orig_nbformat": 4,
  "vscode": {
   "interpreter": {
    "hash": "5e9683d03b1bced758763a0024cb0dc525899e920c4ff2f8a529bc982ee7444b"
   }
  }
 },
 "nbformat": 4,
 "nbformat_minor": 2
}
